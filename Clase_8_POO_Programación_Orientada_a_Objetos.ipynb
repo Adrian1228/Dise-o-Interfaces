{
  "nbformat": 4,
  "nbformat_minor": 0,
  "metadata": {
    "colab": {
      "provenance": [],
      "authorship_tag": "ABX9TyPyNUOVFx3YF3ucR1nFXX88",
      "include_colab_link": true
    },
    "kernelspec": {
      "name": "python3",
      "display_name": "Python 3"
    },
    "language_info": {
      "name": "python"
    }
  },
  "cells": [
    {
      "cell_type": "markdown",
      "metadata": {
        "id": "view-in-github",
        "colab_type": "text"
      },
      "source": [
        "<a href=\"https://colab.research.google.com/github/Adrian1228/Dise-o-Interfaces/blob/main/Clase_8_POO_Programaci%C3%B3n_Orientada_a_Objetos.ipynb\" target=\"_parent\"><img src=\"https://colab.research.google.com/assets/colab-badge.svg\" alt=\"Open In Colab\"/></a>"
      ]
    },
    {
      "cell_type": "code",
      "execution_count": 5,
      "metadata": {
        "id": "breYP34OgjS2",
        "colab": {
          "base_uri": "https://localhost:8080/"
        },
        "outputId": "64c0e48c-5393-4017-d807-787e35717a9b"
      },
      "outputs": [
        {
          "output_type": "execute_result",
          "data": {
            "text/plain": [
              "['clavel', 'margarita', 'tulipán']"
            ]
          },
          "metadata": {},
          "execution_count": 5
        }
      ],
      "source": [
        "#Floristería\n",
        "#1. Conjunto de flores, se elige aleatoriamente una cantidad\n",
        "import random\n",
        "\n",
        "flores=[\"tulipán\",\"lirio\",\"rosa\",\"dahlia\",\"margarita\",\"girasol\",\"clavel\",\"geranio\"]\n",
        "seleccion=random.sample(flores,3)\n",
        "seleccion"
      ]
    },
    {
      "cell_type": "code",
      "source": [
        "def inventario():\n",
        "  flores=[\"tulipán\",\"lirio\",\"rosa\",\"dahlia\",\"margarita\",\"girasol\",\"clavel\",\"geranio\"]\n",
        "  seleccion=random.sample(flores,3)\n",
        "\n",
        "  inventario={\n",
        "     flor:{\n",
        "          \"precio\":random.randint(2000,6000),\n",
        "          \"cantidad\":random.randint(10,50),\n",
        "          \"vendidas\":0\n",
        "     } for flor in seleccion\n",
        "     }\n",
        "  return inventario"
      ],
      "metadata": {
        "id": "etbz1F2xRE-_"
      },
      "execution_count": 6,
      "outputs": []
    },
    {
      "cell_type": "code",
      "source": [
        "inventario()"
      ],
      "metadata": {
        "colab": {
          "base_uri": "https://localhost:8080/"
        },
        "id": "uRu71hnlTMaQ",
        "outputId": "932fd16b-cfff-49d1-9df7-ef53de353381"
      },
      "execution_count": 7,
      "outputs": [
        {
          "output_type": "execute_result",
          "data": {
            "text/plain": [
              "{'dahlia': {'precio': 3609, 'cantidad': 36, 'vendidas': 0},\n",
              " 'geranio': {'precio': 3354, 'cantidad': 17, 'vendidas': 0},\n",
              " 'clavel': {'precio': 2490, 'cantidad': 37, 'vendidas': 0}}"
            ]
          },
          "metadata": {},
          "execution_count": 7
        }
      ]
    },
    {
      "cell_type": "code",
      "source": [
        "flor=inventario()\n",
        "flor.items()"
      ],
      "metadata": {
        "colab": {
          "base_uri": "https://localhost:8080/"
        },
        "id": "tOVXaAy1htdv",
        "outputId": "4ddd992e-79a4-418c-c732-5a1d3061eb9b"
      },
      "execution_count": 13,
      "outputs": [
        {
          "output_type": "execute_result",
          "data": {
            "text/plain": [
              "dict_items([('dahlia', {'precio': 5837, 'cantidad': 10, 'vendidas': 0}), ('clavel', {'precio': 3952, 'cantidad': 33, 'vendidas': 0}), ('geranio', {'precio': 3545, 'cantidad': 24, 'vendidas': 0})])"
            ]
          },
          "metadata": {},
          "execution_count": 13
        }
      ]
    },
    {
      "cell_type": "code",
      "source": [
        "def menu(inventario):\n",
        "  print(\"\\n---MENÚ DE FLORES DISPONIBLES FLORISTERÍA CARLITOS---\")\n",
        "  for flor, datos in inventario.items():\n",
        "    print(f\"{flor}: ${datos['precio']} cant {datos['cantidad']} disponible\")\n",
        "  print(\"-----------------------------------------------------\")"
      ],
      "metadata": {
        "id": "V5Mk5QtRTtL2"
      },
      "execution_count": 8,
      "outputs": []
    },
    {
      "cell_type": "code",
      "source": [
        "menu(inventario())"
      ],
      "metadata": {
        "colab": {
          "base_uri": "https://localhost:8080/"
        },
        "id": "ZZMrG_jpVoSi",
        "outputId": "f92948f6-ea7e-413e-ea87-248c1ff7c6c7"
      },
      "execution_count": 9,
      "outputs": [
        {
          "output_type": "stream",
          "name": "stdout",
          "text": [
            "\n",
            "---MENÚ DE FLORES DISPONIBLES FLORISTERÍA CARLITOS---\n",
            "margarita: $4360 cant 15 disponible\n",
            "clavel: $2856 cant 25 disponible\n",
            "girasol: $2721 cant 30 disponible\n",
            "-----------------------------------------------------\n"
          ]
        }
      ]
    },
    {
      "cell_type": "code",
      "source": [
        "def ventas(inventario,flor,cantidad,total_ganado):\n",
        "  if flor not in inventario:\n",
        "    print(f\"{flor} no se encuentra a la venta🤷‍♂️\")\n",
        "    return total_ganado\n",
        "  datos=inventario[flor]\n",
        "  if cantidad>datos[\"cantidad\"]:\n",
        "    print(f\"Lo siento, en este momento no tenemos la cantidad solicitada\")\n",
        "    return total_ganado\n",
        "\n",
        "  #Realizando la venta\n",
        "  datos[\"cantidad\"]-=cantidad\n",
        "  datos[\"vendidas\"]+=cantidad\n",
        "  venta = datos[\"precio\"] * cantidad\n",
        "  total_ganado+=venta\n",
        "  print(f\"Vendidas: {cantidad} de {flor} por un total de ${venta}\")\n",
        "\n",
        "  #Si se acaba, eliminamos la flor\n",
        "  if datos [\"cantidad\"]==0:\n",
        "    print(f\"{flor} ha sido eliminada del inventario \")\n",
        "    del inventario [flor]\n",
        "  return  total_ganado"
      ],
      "metadata": {
        "id": "3Pw2D7wpXMdZ"
      },
      "execution_count": 10,
      "outputs": []
    },
    {
      "cell_type": "code",
      "source": [
        "def cerrar_tienda(inventario_inicial, inventario_final,total_ganado):\n",
        "  print(\"\\n---Tienda Cerrada---\")\n",
        "  #combinar el inventario inicial con el final para saber cuántas se vendió\n",
        "  flores_vendidas={}\n",
        "  for flor,datos in inventario_inicial.items():\n",
        "    cantidad_final=inventario_final.get(flor,{\"cantidad\":0})[\"cantidad\"]\n",
        "    vendidas=datos[\"cantidad\"]-cantidad_final\n",
        "    flores_vendidad[flor]=vendidas\n",
        "\n",
        "    #Determinar cuáles cuáles fueron las más vendidas\n",
        "    mas_vemdidas=max(flores_vendidas,key=flores_vendidas.get)\n",
        "    menos_vendidas=min(flores_vendidas,key=flores_vendidas.get)\n",
        "\n",
        "    print(f\"La flor más vendida es: {mas_vendidas}:{flores_vendidas[mas_vendidas]} unidad(es)\")\n",
        "    print(f\"La flor menos vendida es: {menos_vendidas}:{flores_vendidas[menos_vendidas]} unidad(es)\")"
      ],
      "metadata": {
        "id": "fbtGMS5LbEkG"
      },
      "execution_count": 11,
      "outputs": []
    },
    {
      "cell_type": "code",
      "source": [
        "total_ganado=0\n",
        "total_ganado=ventas(flor,\"rosa\",10,total_ganado)\n",
        "total_ganado=ventas(flor,\"clavel\",18,total_ganado)\n",
        "total_ganado=ventas(flor,\"margarita\",80,total_ganado)"
      ],
      "metadata": {
        "colab": {
          "base_uri": "https://localhost:8080/"
        },
        "id": "1HB88bR9gDrI",
        "outputId": "7496bc86-403c-4cd1-a685-7fbc59987d96"
      },
      "execution_count": 14,
      "outputs": [
        {
          "output_type": "stream",
          "name": "stdout",
          "text": [
            "rosa no se encuentra a la venta🤷‍♂️\n",
            "Vendidas: 18 de clavel por un total de $71136\n",
            "margarita no se encuentra a la venta🤷‍♂️\n"
          ]
        }
      ]
    }
  ]
}